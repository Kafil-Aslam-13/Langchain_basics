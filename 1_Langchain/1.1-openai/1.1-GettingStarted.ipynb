{
 "cells": [
  {
   "cell_type": "markdown",
   "id": "aeafa211",
   "metadata": {},
   "source": [
    "# Getting Started With  LangChain And Openai\n",
    "\n",
    "IN THIS QUICKSTART we will see how to :\n",
    "1. Get setup with Langchain , Langsmith and lang serve \n",
    "2. use most basic and common components of Langchain:prompt templates , models and output parsers\n",
    "3. Build a simple application  with langchain\n",
    "4. Trace ur application with LangSmith\n",
    "5. Serve ur application  with LangServe"
   ]
  },
  {
   "cell_type": "code",
   "execution_count": 3,
   "id": "957cdb2b",
   "metadata": {},
   "outputs": [
    {
     "data": {
      "text/plain": [
       "True"
      ]
     },
     "execution_count": 3,
     "metadata": {},
     "output_type": "execute_result"
    }
   ],
   "source": [
    "import os\n",
    "from dotenv import load_dotenv\n",
    "load_dotenv()"
   ]
  },
  {
   "cell_type": "code",
   "execution_count": 4,
   "id": "3a8f12a0",
   "metadata": {},
   "outputs": [],
   "source": [
    "# we need to buy it in 300 dollars to use this key \n",
    "os.environ['OPENAI_API_KEY']=os.getenv('OPENAI_API_KEY')\n",
    "## below is used for langsmith tracking\n",
    "os.environ['LANGCHAIN_API_KEY']=os.getenv('LANGCHAIN_API_KEY')\n",
    "\n",
    "os.environ[\"LANGCHAIN_TRACING_V2\"]=\"true\"\n",
    "os.environ[\"LANGCHAIN_PROJECT\"]=os.getenv('LANGCHAIN_PROJECT')\n"
   ]
  },
  {
   "cell_type": "code",
   "execution_count": null,
   "id": "6d184d59",
   "metadata": {},
   "outputs": [],
   "source": [
    "from langchain_openai import ChatOpenAI\n",
    "llm=ChatOpenAI(model=\"gpt-4o\") # api_key=\"\" this parameter is here used but since we have already used os.envioron we dont need to write this again\n",
    "print(llm)\n"
   ]
  },
  {
   "cell_type": "code",
   "execution_count": null,
   "id": "e0e3b4d3",
   "metadata": {},
   "outputs": [],
   "source": [
    "## Input and get resonse from LLm\n",
    "results=llm.invoke(\"what is gen AI\")\n",
    "print(results)\n"
   ]
  },
  {
   "cell_type": "code",
   "execution_count": 2,
   "id": "3b209240",
   "metadata": {},
   "outputs": [
    {
     "data": {
      "text/plain": [
       "ChatPromptTemplate(input_variables=['input'], input_types={}, partial_variables={}, messages=[SystemMessagePromptTemplate(prompt=PromptTemplate(input_variables=[], input_types={}, partial_variables={}, template='You are an expert AI Engineer . Provide me answers based on the question '), additional_kwargs={}), HumanMessagePromptTemplate(prompt=PromptTemplate(input_variables=['input'], input_types={}, partial_variables={}, template='{input}'), additional_kwargs={})])"
      ]
     },
     "execution_count": 2,
     "metadata": {},
     "output_type": "execute_result"
    }
   ],
   "source": [
    "## langchain also support different types of chat prompt templetes also\n",
    "## chatprompt templete\n",
    "from langchain_core.prompts import ChatPromptTemplate \n",
    "## this  chatprompt templete is just like i can tell  my LLM model how it has to behave\n",
    "prompt=ChatPromptTemplate.from_messages(\n",
    "    [\n",
    "        (\"system\",\"You are an expert AI Engineer . Provide me answers based on the question \"),\n",
    "        (\"user\",\"{input}\")\n",
    "    ]\n",
    ")\n",
    "prompt"
   ]
  },
  {
   "cell_type": "code",
   "execution_count": null,
   "id": "cdf1a7b5",
   "metadata": {},
   "outputs": [],
   "source": [
    "## my llm model should know what it has to behave like and that instruction is coming from chart prompt template\n",
    "chain=prompt|llm\n",
    "## Chain basically means we can combine multiple things and also can sictate flow\n",
    "#  when we do | pipe sign , its basically saying we need to combine this prompt along with my LLM and that actually becomes a chain\n",
    "response=chain.invoke({\"input\":\"can u tell me about langsmith?\"})\n",
    "print(response)"
   ]
  },
  {
   "cell_type": "code",
   "execution_count": null,
   "id": "2c82433d",
   "metadata": {},
   "outputs": [],
   "source": [
    "# output parser to display the message\n",
    "# default op parser we will be using = stroutput Parser\n",
    "from langchain_core.output_parsers import StrOutputParser\n",
    "output_parser=StrOutputParser()\n",
    "chain=prompt|llm|output_parser\n",
    "response=chain.invoke({\"input\":\"can u tell me about langsmith\"})\n",
    "print(response)\n"
   ]
  },
  {
   "cell_type": "code",
   "execution_count": null,
   "id": "105b5ab8",
   "metadata": {},
   "outputs": [],
   "source": []
  }
 ],
 "metadata": {
  "kernelspec": {
   "display_name": "Python 3",
   "language": "python",
   "name": "python3"
  },
  "language_info": {
   "codemirror_mode": {
    "name": "ipython",
    "version": 3
   },
   "file_extension": ".py",
   "mimetype": "text/x-python",
   "name": "python",
   "nbconvert_exporter": "python",
   "pygments_lexer": "ipython3",
   "version": "3.10.0"
  }
 },
 "nbformat": 4,
 "nbformat_minor": 5
}
